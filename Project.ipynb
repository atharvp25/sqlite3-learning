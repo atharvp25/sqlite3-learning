{
 "cells": [
  {
   "cell_type": "code",
   "execution_count": 1,
   "id": "ffa47e54-33b7-4ccc-a0f0-4cc64a1a433d",
   "metadata": {},
   "outputs": [],
   "source": [
    "import sqlite3"
   ]
  },
  {
   "cell_type": "code",
   "execution_count": 9,
   "id": "17d31de8-49c0-4604-85a7-1a02ec9afaa6",
   "metadata": {},
   "outputs": [],
   "source": [
    "class Expence:\n",
    "    def __init__(self,id,amount,date,description):\n",
    "        self.id=id\n",
    "        self.amount=amount\n",
    "        self.date=date\n",
    "        self.description=description       \n"
   ]
  },
  {
   "cell_type": "code",
   "execution_count": null,
   "id": "aef3bc57-92f9-4ced-9682-9ce4979d6b9d",
   "metadata": {},
   "outputs": [],
   "source": [
    "class Manager:\n",
    "    def __init__(self, database_name=\"storage.db\"):\n",
    "        self.conn = sqlite3.connect(database_name)\n",
    "        self.cursor = self.conn.cursor()\n",
    "        self.createTable()\n",
    "\n",
    "    def createTable(self):\n",
    "        self.cursor.execute('''\n",
    "            CREATE TABLE IF NOT EXISTS expenses (\n",
    "                id INTEGER PRIMARY KEY AUTOINCREMENT,\n",
    "                amount INTEGER,\n",
    "                date VARCHAR(10),\n",
    "                description VARCHAR(50)\n",
    "            )\n",
    "        ''')\n",
    "        self.conn.commit()\n",
    "\n",
    "    def insertData(self, expense):\n",
    "        self.cursor.execute('''\n",
    "            INSERT INTO expenses (amount, date, description)\n",
    "            VALUES (?, ?, ?)\n",
    "        ''', (expense.amount, expense.date, expense.description))\n",
    "        self.conn.commit()\n",
    "\n",
    "    def displayData(self):\n",
    "        self.cursor.execute('SELECT * FROM expenses')\n",
    "        rows = self.cursor.fetchall()\n",
    "        for row in rows:\n",
    "            print(row)\n",
    "\n",
    "    def dropTable(self):\n",
    "        self.cursor.execute('DROP TABLE IF EXISTS expenses')\n",
    "        self.conn.commit()\n",
    "    \n",
    "    def updateDate(self):\n",
    "        pass \n",
    "    \n",
    "    def deleteData(self):\n",
    "        pass     \n"
   ]
  },
  {
   "cell_type": "code",
   "execution_count": null,
   "id": "dccddfd6-ba1c-4f94-b687-8003f1395f11",
   "metadata": {},
   "outputs": [],
   "source": [
    "exp1 = Expence(None, 200, \"2025-12-12\", \"Movie\")\n",
    "exp2 = Expence(None, 500, \"2025-11-12\", \"Food\")\n",
    "exp3 = Expence(None, 1000, \"2025-13-12\", \"Grocery\")\n",
    "save1 = Manager()\n"
   ]
  },
  {
   "cell_type": "code",
   "execution_count": null,
   "id": "d445cbab-f1e9-468d-9e2d-216ab9403662",
   "metadata": {},
   "outputs": [
    {
     "name": "stdout",
     "output_type": "stream",
     "text": [
      "(1, 200, '2025-12-12', 'Movie')\n",
      "(2, 500, '2025-11-12', 'Food')\n",
      "(3, 1000, '2025-13-12', 'Grocery')\n"
     ]
    }
   ],
   "source": [
    "save1.insertData(exp1)\n",
    "save1.insertData(exp2)\n",
    "save1.insertData(exp3)\n",
    "save1.displayData()"
   ]
  },
  {
   "cell_type": "code",
   "execution_count": null,
   "id": "209d9422",
   "metadata": {},
   "outputs": [],
   "source": []
  }
 ],
 "metadata": {
  "kernelspec": {
   "display_name": "Python 3",
   "language": "python",
   "name": "python3"
  },
  "language_info": {
   "codemirror_mode": {
    "name": "ipython",
    "version": 3
   },
   "file_extension": ".py",
   "mimetype": "text/x-python",
   "name": "python",
   "nbconvert_exporter": "python",
   "pygments_lexer": "ipython3",
   "version": "3.10.11"
  }
 },
 "nbformat": 4,
 "nbformat_minor": 5
}
