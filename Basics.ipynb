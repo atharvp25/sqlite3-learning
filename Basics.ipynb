{
 "cells": [
  {
   "cell_type": "code",
   "execution_count": 1,
   "id": "498b462a-a71a-41b9-8332-e1fc4ef459c4",
   "metadata": {},
   "outputs": [],
   "source": [
    "import sqlite3"
   ]
  },
  {
   "cell_type": "code",
   "execution_count": 2,
   "id": "c18cb84a-1fde-4859-b204-38eb0f461269",
   "metadata": {},
   "outputs": [
    {
     "data": {
      "text/plain": [
       "<sqlite3.Connection at 0x2c865402440>"
      ]
     },
     "execution_count": 2,
     "metadata": {},
     "output_type": "execute_result"
    }
   ],
   "source": [
    "#Connect Sqlite database\n",
    "\n",
    "connection = sqlite3.connect(\"database1.db\")\n",
    "connection"
   ]
  },
  {
   "cell_type": "code",
   "execution_count": 3,
   "id": "42918157-afd7-4c7a-87be-597b60b31947",
   "metadata": {},
   "outputs": [],
   "source": [
    "cursor = connection.cursor()"
   ]
  },
  {
   "cell_type": "code",
   "execution_count": 21,
   "id": "5ca4313d-603d-4044-8734-a638e662040f",
   "metadata": {},
   "outputs": [],
   "source": [
    "#Create the table\n",
    "cursor.execute('''\n",
    "    create table if not exists student (\n",
    "        roll_no int primary key,\n",
    "        name varchar(50) ) ;\n",
    "''')\n",
    "#Commit the change\n",
    "connection.commit()"
   ]
  },
  {
   "cell_type": "code",
   "execution_count": 6,
   "id": "6f74c923-23cb-4f67-b1ab-05283dd7a2ce",
   "metadata": {},
   "outputs": [
    {
     "data": {
      "text/plain": [
       "<sqlite3.Cursor at 0x2c8654ff640>"
      ]
     },
     "execution_count": 6,
     "metadata": {},
     "output_type": "execute_result"
    }
   ],
   "source": [
    "cursor.execute('''\n",
    "    select * from student;\n",
    "''')\n"
   ]
  },
  {
   "cell_type": "code",
   "execution_count": 22,
   "id": "4b80613c-d183-4300-94f5-8d679dcf44d7",
   "metadata": {},
   "outputs": [],
   "source": [
    "#Insert some data \n",
    "cursor.execute('''\n",
    "    insert into student values (11,\"Ath\") , (22,\"Atp\") , (33,\"Phantom\");\n",
    "''')\n",
    "connection.commit()"
   ]
  },
  {
   "cell_type": "code",
   "execution_count": 23,
   "id": "5c837e36-daba-490f-8c38-9b6d2ebb22ed",
   "metadata": {},
   "outputs": [
    {
     "name": "stdout",
     "output_type": "stream",
     "text": [
      "(11, 'Ath')\n",
      "(22, 'Atp')\n",
      "(33, 'Phantom')\n"
     ]
    }
   ],
   "source": [
    "#Query the data from the table \n",
    "cursor.execute('''\n",
    "    select * from student;\n",
    "''')\n",
    "rows = cursor.fetchall()\n",
    "\n",
    "#Print the row\n",
    "\n",
    "for row in rows:\n",
    "    print(row)"
   ]
  },
  {
   "cell_type": "code",
   "execution_count": 15,
   "id": "7e0e2794-9f01-4a8e-94c7-9b6a352ac310",
   "metadata": {},
   "outputs": [
    {
     "data": {
      "text/plain": [
       "<sqlite3.Cursor at 0x2c8654ff640>"
      ]
     },
     "execution_count": 15,
     "metadata": {},
     "output_type": "execute_result"
    }
   ],
   "source": [
    "#Update the data from the table\n",
    "cursor.execute('''\n",
    "    update student set name = \"AP\" where roll_no = 11 ;\n",
    "''')"
   ]
  },
  {
   "cell_type": "code",
   "execution_count": 18,
   "id": "86cd1681-1425-4840-95c3-dd35b5b714db",
   "metadata": {},
   "outputs": [
    {
     "data": {
      "text/plain": [
       "<sqlite3.Cursor at 0x2c8654ff640>"
      ]
     },
     "execution_count": 18,
     "metadata": {},
     "output_type": "execute_result"
    }
   ],
   "source": [
    "#Delete from table \n",
    "cursor.execute('''\n",
    "    delete from student where name = \"AP\";\n",
    "''')"
   ]
  },
  {
   "cell_type": "code",
   "execution_count": 20,
   "id": "8091f7c7-04c3-4bc6-ad0c-9a31e024ad06",
   "metadata": {},
   "outputs": [
    {
     "data": {
      "text/plain": [
       "<sqlite3.Cursor at 0x2c8654ff640>"
      ]
     },
     "execution_count": 20,
     "metadata": {},
     "output_type": "execute_result"
    }
   ],
   "source": [
    "cursor.execute('''\n",
    "    drop table student;\n",
    "''')"
   ]
  },
  {
   "cell_type": "code",
   "execution_count": null,
   "id": "16ce8a4e-ee0b-4153-b1fa-a233256065f2",
   "metadata": {},
   "outputs": [],
   "source": []
  },
  {
   "cell_type": "markdown",
   "id": "26d0676a-2456-4757-939d-ec79d56b61e6",
   "metadata": {},
   "source": [
    "# a"
   ]
  }
 ],
 "metadata": {
  "kernelspec": {
   "display_name": "Python 3 (ipykernel)",
   "language": "python",
   "name": "python3"
  },
  "language_info": {
   "codemirror_mode": {
    "name": "ipython",
    "version": 3
   },
   "file_extension": ".py",
   "mimetype": "text/x-python",
   "name": "python",
   "nbconvert_exporter": "python",
   "pygments_lexer": "ipython3",
   "version": "3.10.11"
  }
 },
 "nbformat": 4,
 "nbformat_minor": 5
}
